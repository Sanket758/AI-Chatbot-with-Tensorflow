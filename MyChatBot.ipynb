{
  "nbformat": 4,
  "nbformat_minor": 0,
  "metadata": {
    "colab": {
      "name": "MyChatBot.ipynb",
      "provenance": [],
      "include_colab_link": true
    },
    "kernelspec": {
      "name": "python3",
      "display_name": "Python 3"
    }
  },
  "cells": [
    {
      "cell_type": "markdown",
      "metadata": {
        "id": "view-in-github",
        "colab_type": "text"
      },
      "source": [
        "<a href=\"https://colab.research.google.com/github/Sanket758/AI-Chatbot-with-Tensorflow/blob/master/MyChatBot.ipynb\" target=\"_parent\"><img src=\"https://colab.research.google.com/assets/colab-badge.svg\" alt=\"Open In Colab\"/></a>"
      ]
    },
    {
      "cell_type": "code",
      "metadata": {
        "id": "ulIReAt7fBe5",
        "outputId": "4cfbaadd-b367-4ff4-83fe-4b4b970c0525",
        "colab": {
          "base_uri": "https://localhost:8080/",
          "height": 102
        }
      },
      "source": [
        "!pip install nltk\n",
        "import nltk\n",
        "nltk.download('punkt')"
      ],
      "execution_count": null,
      "outputs": [
        {
          "output_type": "stream",
          "text": [
            "Requirement already satisfied: nltk in /usr/local/lib/python3.6/dist-packages (3.2.5)\n",
            "Requirement already satisfied: six in /usr/local/lib/python3.6/dist-packages (from nltk) (1.15.0)\n",
            "[nltk_data] Downloading package punkt to /root/nltk_data...\n",
            "[nltk_data]   Package punkt is already up-to-date!\n"
          ],
          "name": "stdout"
        },
        {
          "output_type": "execute_result",
          "data": {
            "text/plain": [
              "True"
            ]
          },
          "metadata": {
            "tags": []
          },
          "execution_count": 3
        }
      ]
    },
    {
      "cell_type": "code",
      "metadata": {
        "id": "MoeUKxg-a5kj"
      },
      "source": [
        "import nltk\n",
        "from nltk.stem import WordNetLemmatizer\n",
        "lemmatizer = WordNetLemmatizer()\n",
        "import json\n",
        "import pickle\n",
        "import warnings\n",
        "warnings.filterwarnings('ignore')"
      ],
      "execution_count": null,
      "outputs": []
    },
    {
      "cell_type": "code",
      "metadata": {
        "id": "naoqg88dbdRe",
        "outputId": "3ed1e420-fedd-4a51-ec2c-42df90e83c00",
        "colab": {
          "base_uri": "https://localhost:8080/",
          "height": 51
        }
      },
      "source": [
        " %tensorflow_version 1.x\n",
        "import numpy as np\n",
        "from keras.models import Sequential\n",
        "from keras.layers import Dense, Activation, Dropout\n",
        "from keras.optimizers import SGD\n",
        "import random"
      ],
      "execution_count": null,
      "outputs": [
        {
          "output_type": "stream",
          "text": [
            "TensorFlow 1.x selected.\n"
          ],
          "name": "stdout"
        },
        {
          "output_type": "stream",
          "text": [
            "Using TensorFlow backend.\n"
          ],
          "name": "stderr"
        }
      ]
    },
    {
      "cell_type": "markdown",
      "metadata": {
        "id": "CwsiM5LveMCs"
      },
      "source": [
        "# Preprocessing"
      ]
    },
    {
      "cell_type": "code",
      "metadata": {
        "id": "VyjWuwHlbjaX"
      },
      "source": [
        "words=[]\n",
        "classes = []\n",
        "documents = []\n",
        "ignore_words = ['?', '!']\n",
        "data_file = open('/content/intents.json').read() # you can find the intents file here:https://github.com/Sanket758/AI-Chatbot-with-Tensorflow\n",
        "intents = json.loads(data_file)"
      ],
      "execution_count": null,
      "outputs": []
    },
    {
      "cell_type": "code",
      "metadata": {
        "id": "An-wYX8JdOZq"
      },
      "source": [
        "for intent in intents['intents']:\n",
        "    for pattern in intent['patterns']:\n",
        "        #tokenize each word\n",
        "        w = nltk.word_tokenize(pattern)\n",
        "        words.extend(w)\n",
        "        #add documents in the corpus\n",
        "        documents.append((w, intent['tag']))\n",
        "        # add to our classes list\n",
        "        if intent['tag'] not in classes:\n",
        "            classes.append(intent['tag'])"
      ],
      "execution_count": null,
      "outputs": []
    },
    {
      "cell_type": "code",
      "metadata": {
        "id": "QJN3L8oAfncK",
        "outputId": "7e05a525-8a15-4030-fbb1-05ac869c9f29",
        "colab": {
          "base_uri": "https://localhost:8080/",
          "height": 68
        }
      },
      "source": [
        "nltk.download('wordnet')"
      ],
      "execution_count": null,
      "outputs": [
        {
          "output_type": "stream",
          "text": [
            "[nltk_data] Downloading package wordnet to /root/nltk_data...\n",
            "[nltk_data]   Unzipping corpora/wordnet.zip.\n"
          ],
          "name": "stdout"
        },
        {
          "output_type": "execute_result",
          "data": {
            "text/plain": [
              "True"
            ]
          },
          "metadata": {
            "tags": []
          },
          "execution_count": 8
        }
      ]
    },
    {
      "cell_type": "code",
      "metadata": {
        "id": "TDwPf9R5hHF2",
        "outputId": "db350c36-58f6-4142-f56d-33e263b936c5",
        "colab": {
          "base_uri": "https://localhost:8080/",
          "height": 88
        }
      },
      "source": [
        "# lemmatize, lower each word and remove duplicates\n",
        "words = [lemmatizer.lemmatize(w.lower()) for w in words if w not in ignore_words]\n",
        "words = sorted(list(set(words)))\n",
        "# sort classes\n",
        "classes = sorted(list(set(classes)))\n",
        "# documents = combination between patterns and intents\n",
        "print (len(documents), \"documents\")\n",
        "# classes = intents\n",
        "print (len(classes), \"classes\", classes)\n",
        "# words = all words, vocabulary\n",
        "print (len(words), \"unique lemmatized words\", words)\n",
        "pickle.dump(words,open('words.pkl','wb'))\n",
        "pickle.dump(classes,open('classes.pkl','wb'))"
      ],
      "execution_count": null,
      "outputs": [
        {
          "output_type": "stream",
          "text": [
            "347 documents\n",
            "36 classes ['admission', 'canteen', 'college intake', 'committee', 'computerhod', 'course', 'creator', 'document', 'event', 'extchod', 'facilities', 'fees', 'floors', 'goodbye', 'greeting', 'hod', 'hostel', 'hours', 'infrastructure', 'ithod', 'library', 'location', 'menu', 'name', 'number', 'placement', 'principal', 'ragging', 'random', 'salutaion', 'sem', 'swear', 'syllabus', 'task', 'uniform', 'vacation']\n",
            "242 unique lemmatized words [\"'s\", 'a', 'about', 'active', 'address', 'admision', 'admission', 'allotment', 'am', 'an', 'and', 'antiragging', 'any', 'anyone', 'are', 'as', 'asshole', 'at', 'attend', 'available', 'average', 'be', 'between', 'big', 'bitch', 'book', 'branch', 'bring', 'building', 'by', 'bye', 'cafetaria', 'call', 'called', 'campus', 'can', 'canteen', 'capacity', 'case', 'casuals', 'chatting', 'code', 'college', 'come', 'committe', 'committee', 'company', 'computer', 'conducted', 'contact', 'course', 'create', 'created', 'creator', 'cya', 'date', 'day', 'designed', 'detail', 'developer', 'different', 'distance', 'do', 'document', 'doe', 'done', 'dress', 'dresscode', 'dumb', 'during', 'each', 'eat', 'end', 'engineering', 'event', 'exam', 'extc', 'facility', 'far', 'fee', 'first', 'floor', 'food', 'for', 'from', 'fuck', 'fucker', 'function', 'get', 'give', 'go', 'good', 'goodbye', 'got', 'gtg', 'guy', 'have', 'held', 'hell', 'hello', 'help', 'here', 'heyy', 'hi', 'history', 'hod', 'holiday', 'hostel', 'hour', 'how', 'i', 'idiot', 'in', 'incident', 'info', 'information', 'infrastructure', 'intake', 'is', 'it', 'job', 'junior', 'k', 'later', 'leaving', 'lecture', 'library', 'list', 'located', 'location', 'long', 'love', 'made', 'many', 'marry', 'max', 'maximum', 'me', 'menu', 'more', 'much', 'my', 'name', 'need', 'needed', 'next', 'nice', 'no', 'number', 'of', 'offer', 'offered', 'office', 'ok', 'okay', 'okie', 'okk', 'on', 'open', 'operation', 'organised', 'package', 'padmabhushan', 'patil', 'per', 'phone', 'placement', 'practice', 'pratishthan', 'principal', 'process', 'provide', 'provided', 'pvpp', 'pvppcoe', 'ragging', 'reach', 'recruitment', 'required', 'saturday', 'schedule', 'seat', 'see', 'sem', 'semester', 'servive', 'should', 'shut', 'size', 'something', 'start', 'student', 'stundent', 'stupid', 'syllabus', 'take', 'taken', 'taking', 'talk', 'tall', 'technology', 'telephone', 'tell', 'thank', 'thanks', 'the', 'there', 'thing', 'this', 'time', 'timetable', 'timing', 'to', 'tyyl', 'u', 'uniform', 'up', 'use', 'vacation', 'vasantdada', 'visit', 'we', 'wear', 'well', 'what', 'whats', 'whatsup', 'whatv', 'when', 'where', 'wheres', 'which', 'who', 'whom', 'why', 'will', 'work', 'working', 'ya', 'year', 'you', 'your']\n"
          ],
          "name": "stdout"
        }
      ]
    },
    {
      "cell_type": "code",
      "metadata": {
        "id": "wC_eRFlBiEUN",
        "outputId": "fcd7fb23-a1e3-4063-c86a-68230ac0b337",
        "colab": {
          "base_uri": "https://localhost:8080/",
          "height": 34
        }
      },
      "source": [
        "# create our training data\n",
        "training = []\n",
        "# create an empty array for our output\n",
        "output_empty = [0] * len(classes)\n",
        "# training set, bag of words for each sentence\n",
        "for doc in documents:\n",
        "    # initialize our bag of words\n",
        "    bag = []\n",
        "    # list of tokenized words for the pattern\n",
        "    pattern_words = doc[0]\n",
        "    # lemmatize each word - create base word, in attempt to represent related words\n",
        "    pattern_words = [lemmatizer.lemmatize(word.lower()) for word in pattern_words]\n",
        "    # create our bag of words array with 1, if word match found in current pattern\n",
        "    for w in words:\n",
        "        bag.append(1) if w in pattern_words else bag.append(0)\n",
        "    \n",
        "    # output is a '0' for each tag and '1' for current tag (for each pattern)\n",
        "    output_row = list(output_empty)\n",
        "    output_row[classes.index(doc[1])] = 1\n",
        "    \n",
        "    training.append([bag, output_row])\n",
        "# shuffle our features and turn into np.array\n",
        "random.shuffle(training)\n",
        "training = np.array(training)\n",
        "# create train and test lists. X - patterns, Y - intents\n",
        "train_x = list(training[:,0])\n",
        "train_y = list(training[:,1])\n",
        "print(\"Training data created\")\n"
      ],
      "execution_count": null,
      "outputs": [
        {
          "output_type": "stream",
          "text": [
            "Training data created\n"
          ],
          "name": "stdout"
        }
      ]
    },
    {
      "cell_type": "code",
      "metadata": {
        "id": "oXHd9jrngXq4"
      },
      "source": [
        "from tensorflow.python.framework import ops\n",
        "ops.reset_default_graph()"
      ],
      "execution_count": null,
      "outputs": []
    },
    {
      "cell_type": "code",
      "metadata": {
        "id": "gS_iV4yPjgA5",
        "outputId": "ed6c63fe-b9b5-4e54-9260-69b505f4616f",
        "colab": {
          "base_uri": "https://localhost:8080/",
          "height": 88
        }
      },
      "source": [
        "# Create model - 3 layers. First layer 128 neurons, second layer 64 neurons and 3rd output layer contains number of neurons\n",
        "# equal to number of intents to predict output intent with softmax\n",
        "model = Sequential()\n",
        "model.add(Dense(128, input_shape=(len(train_x[0]),), activation='relu'))\n",
        "model.add(Dropout(0.5))\n",
        "model.add(Dense(64, activation='relu'))\n",
        "model.add(Dropout(0.5))\n",
        "model.add(Dense(len(train_y[0]), activation='softmax'))"
      ],
      "execution_count": null,
      "outputs": [
        {
          "output_type": "stream",
          "text": [
            "WARNING:tensorflow:From /tensorflow-1.15.2/python3.6/tensorflow_core/python/ops/resource_variable_ops.py:1630: calling BaseResourceVariable.__init__ (from tensorflow.python.ops.resource_variable_ops) with constraint is deprecated and will be removed in a future version.\n",
            "Instructions for updating:\n",
            "If using Keras pass *_constraint arguments to layers.\n"
          ],
          "name": "stdout"
        }
      ]
    },
    {
      "cell_type": "code",
      "metadata": {
        "id": "90wpa9aSjloD"
      },
      "source": [
        "# Compile model. Stochastic gradient descent with Nesterov accelerated gradient gives good results for this model\n",
        "sgd = SGD(lr=0.01, decay=1e-6, momentum=0.9, nesterov=True)\n",
        "model.compile(loss='categorical_crossentropy', optimizer=sgd, metrics=['accuracy'])"
      ],
      "execution_count": null,
      "outputs": []
    },
    {
      "cell_type": "code",
      "metadata": {
        "id": "MQkD1_wdj4_0",
        "outputId": "7c115811-0300-4595-ccf9-bad88ef6a4bd",
        "colab": {
          "base_uri": "https://localhost:8080/",
          "height": 1000
        }
      },
      "source": [
        "#fitting and saving the model \n",
        "hist = model.fit(np.array(train_x), np.array(train_y), epochs=200, batch_size=5, verbose=1)\n",
        "model.save('chatbot_model.h5', hist)\n",
        "\n",
        "print(\"model created\")\n"
      ],
      "execution_count": null,
      "outputs": [
        {
          "output_type": "stream",
          "text": [
            "WARNING:tensorflow:From /tensorflow-1.15.2/python3.6/keras/backend/tensorflow_backend.py:422: The name tf.global_variables is deprecated. Please use tf.compat.v1.global_variables instead.\n",
            "\n",
            "Epoch 1/200\n",
            "347/347 [==============================] - 0s 1ms/step - loss: 3.5490 - accuracy: 0.0490\n",
            "Epoch 2/200\n",
            "347/347 [==============================] - 0s 273us/step - loss: 3.4276 - accuracy: 0.1066\n",
            "Epoch 3/200\n",
            "347/347 [==============================] - 0s 262us/step - loss: 3.2282 - accuracy: 0.1614\n",
            "Epoch 4/200\n",
            "347/347 [==============================] - 0s 258us/step - loss: 3.0259 - accuracy: 0.2219\n",
            "Epoch 5/200\n",
            "347/347 [==============================] - 0s 299us/step - loss: 2.7818 - accuracy: 0.2622\n",
            "Epoch 6/200\n",
            "347/347 [==============================] - 0s 272us/step - loss: 2.6046 - accuracy: 0.3401\n",
            "Epoch 7/200\n",
            "347/347 [==============================] - 0s 261us/step - loss: 2.2719 - accuracy: 0.3948\n",
            "Epoch 8/200\n",
            "347/347 [==============================] - 0s 264us/step - loss: 2.1822 - accuracy: 0.3977\n",
            "Epoch 9/200\n",
            "347/347 [==============================] - 0s 267us/step - loss: 1.9411 - accuracy: 0.4784\n",
            "Epoch 10/200\n",
            "347/347 [==============================] - 0s 281us/step - loss: 1.8098 - accuracy: 0.5101\n",
            "Epoch 11/200\n",
            "347/347 [==============================] - 0s 286us/step - loss: 1.5913 - accuracy: 0.5533\n",
            "Epoch 12/200\n",
            "347/347 [==============================] - 0s 265us/step - loss: 1.4045 - accuracy: 0.6254\n",
            "Epoch 13/200\n",
            "347/347 [==============================] - 0s 261us/step - loss: 1.2946 - accuracy: 0.6427\n",
            "Epoch 14/200\n",
            "347/347 [==============================] - 0s 268us/step - loss: 1.2004 - accuracy: 0.6744\n",
            "Epoch 15/200\n",
            "347/347 [==============================] - 0s 258us/step - loss: 1.1471 - accuracy: 0.6744\n",
            "Epoch 16/200\n",
            "347/347 [==============================] - 0s 256us/step - loss: 1.1306 - accuracy: 0.6772\n",
            "Epoch 17/200\n",
            "347/347 [==============================] - 0s 257us/step - loss: 1.0088 - accuracy: 0.7118\n",
            "Epoch 18/200\n",
            "347/347 [==============================] - 0s 268us/step - loss: 0.9323 - accuracy: 0.7349\n",
            "Epoch 19/200\n",
            "347/347 [==============================] - 0s 284us/step - loss: 0.7964 - accuracy: 0.7695\n",
            "Epoch 20/200\n",
            "347/347 [==============================] - 0s 274us/step - loss: 0.7781 - accuracy: 0.7637\n",
            "Epoch 21/200\n",
            "347/347 [==============================] - 0s 280us/step - loss: 0.8325 - accuracy: 0.7233\n",
            "Epoch 22/200\n",
            "347/347 [==============================] - 0s 282us/step - loss: 0.6692 - accuracy: 0.8127\n",
            "Epoch 23/200\n",
            "347/347 [==============================] - 0s 274us/step - loss: 0.6451 - accuracy: 0.8184\n",
            "Epoch 24/200\n",
            "347/347 [==============================] - 0s 259us/step - loss: 0.5681 - accuracy: 0.8242\n",
            "Epoch 25/200\n",
            "347/347 [==============================] - 0s 261us/step - loss: 0.5531 - accuracy: 0.8473\n",
            "Epoch 26/200\n",
            "347/347 [==============================] - 0s 262us/step - loss: 0.5307 - accuracy: 0.8444\n",
            "Epoch 27/200\n",
            "347/347 [==============================] - 0s 279us/step - loss: 0.5576 - accuracy: 0.8357\n",
            "Epoch 28/200\n",
            "347/347 [==============================] - 0s 260us/step - loss: 0.5521 - accuracy: 0.8559\n",
            "Epoch 29/200\n",
            "347/347 [==============================] - 0s 261us/step - loss: 0.4513 - accuracy: 0.8703\n",
            "Epoch 30/200\n",
            "347/347 [==============================] - 0s 270us/step - loss: 0.4868 - accuracy: 0.8501\n",
            "Epoch 31/200\n",
            "347/347 [==============================] - 0s 279us/step - loss: 0.4066 - accuracy: 0.8732\n",
            "Epoch 32/200\n",
            "347/347 [==============================] - 0s 275us/step - loss: 0.4116 - accuracy: 0.8818\n",
            "Epoch 33/200\n",
            "347/347 [==============================] - 0s 260us/step - loss: 0.3656 - accuracy: 0.8847\n",
            "Epoch 34/200\n",
            "347/347 [==============================] - 0s 276us/step - loss: 0.4221 - accuracy: 0.8847\n",
            "Epoch 35/200\n",
            "347/347 [==============================] - 0s 278us/step - loss: 0.4273 - accuracy: 0.8703\n",
            "Epoch 36/200\n",
            "347/347 [==============================] - 0s 303us/step - loss: 0.3940 - accuracy: 0.8674\n",
            "Epoch 37/200\n",
            "347/347 [==============================] - 0s 260us/step - loss: 0.3314 - accuracy: 0.8847\n",
            "Epoch 38/200\n",
            "347/347 [==============================] - 0s 269us/step - loss: 0.3628 - accuracy: 0.8818\n",
            "Epoch 39/200\n",
            "347/347 [==============================] - 0s 265us/step - loss: 0.3584 - accuracy: 0.9020\n",
            "Epoch 40/200\n",
            "347/347 [==============================] - 0s 272us/step - loss: 0.3707 - accuracy: 0.8905\n",
            "Epoch 41/200\n",
            "347/347 [==============================] - 0s 269us/step - loss: 0.3320 - accuracy: 0.9049\n",
            "Epoch 42/200\n",
            "347/347 [==============================] - 0s 299us/step - loss: 0.2526 - accuracy: 0.9337\n",
            "Epoch 43/200\n",
            "347/347 [==============================] - 0s 292us/step - loss: 0.3555 - accuracy: 0.9020\n",
            "Epoch 44/200\n",
            "347/347 [==============================] - 0s 266us/step - loss: 0.3522 - accuracy: 0.8934\n",
            "Epoch 45/200\n",
            "347/347 [==============================] - 0s 267us/step - loss: 0.2953 - accuracy: 0.9164\n",
            "Epoch 46/200\n",
            "347/347 [==============================] - 0s 255us/step - loss: 0.2744 - accuracy: 0.9222\n",
            "Epoch 47/200\n",
            "347/347 [==============================] - 0s 260us/step - loss: 0.3541 - accuracy: 0.8905\n",
            "Epoch 48/200\n",
            "347/347 [==============================] - 0s 276us/step - loss: 0.2928 - accuracy: 0.9107\n",
            "Epoch 49/200\n",
            "347/347 [==============================] - 0s 280us/step - loss: 0.2189 - accuracy: 0.9308\n",
            "Epoch 50/200\n",
            "347/347 [==============================] - 0s 286us/step - loss: 0.1956 - accuracy: 0.9366\n",
            "Epoch 51/200\n",
            "347/347 [==============================] - 0s 273us/step - loss: 0.2872 - accuracy: 0.9135\n",
            "Epoch 52/200\n",
            "347/347 [==============================] - 0s 277us/step - loss: 0.2643 - accuracy: 0.9193\n",
            "Epoch 53/200\n",
            "347/347 [==============================] - 0s 286us/step - loss: 0.2816 - accuracy: 0.9107\n",
            "Epoch 54/200\n",
            "347/347 [==============================] - 0s 283us/step - loss: 0.2621 - accuracy: 0.9107\n",
            "Epoch 55/200\n",
            "347/347 [==============================] - 0s 275us/step - loss: 0.3387 - accuracy: 0.9020\n",
            "Epoch 56/200\n",
            "347/347 [==============================] - 0s 272us/step - loss: 0.2229 - accuracy: 0.9337\n",
            "Epoch 57/200\n",
            "347/347 [==============================] - 0s 278us/step - loss: 0.2054 - accuracy: 0.9424\n",
            "Epoch 58/200\n",
            "347/347 [==============================] - 0s 317us/step - loss: 0.2092 - accuracy: 0.9395\n",
            "Epoch 59/200\n",
            "347/347 [==============================] - 0s 279us/step - loss: 0.1950 - accuracy: 0.9424\n",
            "Epoch 60/200\n",
            "347/347 [==============================] - 0s 278us/step - loss: 0.2046 - accuracy: 0.9452\n",
            "Epoch 61/200\n",
            "347/347 [==============================] - 0s 277us/step - loss: 0.1985 - accuracy: 0.9366\n",
            "Epoch 62/200\n",
            "347/347 [==============================] - 0s 341us/step - loss: 0.2442 - accuracy: 0.9164\n",
            "Epoch 63/200\n",
            "347/347 [==============================] - 0s 281us/step - loss: 0.2198 - accuracy: 0.9337\n",
            "Epoch 64/200\n",
            "347/347 [==============================] - 0s 272us/step - loss: 0.2038 - accuracy: 0.9481\n",
            "Epoch 65/200\n",
            "347/347 [==============================] - 0s 332us/step - loss: 0.2024 - accuracy: 0.9424\n",
            "Epoch 66/200\n",
            "347/347 [==============================] - 0s 268us/step - loss: 0.1628 - accuracy: 0.9424\n",
            "Epoch 67/200\n",
            "347/347 [==============================] - 0s 274us/step - loss: 0.2103 - accuracy: 0.9395\n",
            "Epoch 68/200\n",
            "347/347 [==============================] - 0s 279us/step - loss: 0.2392 - accuracy: 0.9164\n",
            "Epoch 69/200\n",
            "347/347 [==============================] - 0s 283us/step - loss: 0.2185 - accuracy: 0.9308\n",
            "Epoch 70/200\n",
            "347/347 [==============================] - 0s 277us/step - loss: 0.2663 - accuracy: 0.9251\n",
            "Epoch 71/200\n",
            "347/347 [==============================] - 0s 341us/step - loss: 0.2066 - accuracy: 0.9424\n",
            "Epoch 72/200\n",
            "347/347 [==============================] - 0s 291us/step - loss: 0.2214 - accuracy: 0.9222\n",
            "Epoch 73/200\n",
            "347/347 [==============================] - 0s 272us/step - loss: 0.2115 - accuracy: 0.9395\n",
            "Epoch 74/200\n",
            "347/347 [==============================] - 0s 272us/step - loss: 0.1911 - accuracy: 0.9424\n",
            "Epoch 75/200\n",
            "347/347 [==============================] - 0s 271us/step - loss: 0.1582 - accuracy: 0.9424\n",
            "Epoch 76/200\n",
            "347/347 [==============================] - 0s 292us/step - loss: 0.1709 - accuracy: 0.9395\n",
            "Epoch 77/200\n",
            "347/347 [==============================] - 0s 270us/step - loss: 0.1647 - accuracy: 0.9481\n",
            "Epoch 78/200\n",
            "347/347 [==============================] - 0s 280us/step - loss: 0.1894 - accuracy: 0.9395\n",
            "Epoch 79/200\n",
            "347/347 [==============================] - 0s 277us/step - loss: 0.1710 - accuracy: 0.9337\n",
            "Epoch 80/200\n",
            "347/347 [==============================] - 0s 349us/step - loss: 0.1487 - accuracy: 0.9597\n",
            "Epoch 81/200\n",
            "347/347 [==============================] - 0s 281us/step - loss: 0.1718 - accuracy: 0.9395\n",
            "Epoch 82/200\n",
            "347/347 [==============================] - 0s 290us/step - loss: 0.2282 - accuracy: 0.9366\n",
            "Epoch 83/200\n",
            "347/347 [==============================] - 0s 265us/step - loss: 0.1831 - accuracy: 0.9366\n",
            "Epoch 84/200\n",
            "347/347 [==============================] - 0s 284us/step - loss: 0.2080 - accuracy: 0.9452\n",
            "Epoch 85/200\n",
            "347/347 [==============================] - 0s 275us/step - loss: 0.1845 - accuracy: 0.9366\n",
            "Epoch 86/200\n",
            "347/347 [==============================] - 0s 274us/step - loss: 0.2072 - accuracy: 0.9308\n",
            "Epoch 87/200\n",
            "347/347 [==============================] - 0s 269us/step - loss: 0.1443 - accuracy: 0.9539\n",
            "Epoch 88/200\n",
            "347/347 [==============================] - 0s 295us/step - loss: 0.1754 - accuracy: 0.9395\n",
            "Epoch 89/200\n",
            "347/347 [==============================] - 0s 276us/step - loss: 0.1316 - accuracy: 0.9539\n",
            "Epoch 90/200\n",
            "347/347 [==============================] - 0s 312us/step - loss: 0.1218 - accuracy: 0.9683\n",
            "Epoch 91/200\n",
            "347/347 [==============================] - 0s 282us/step - loss: 0.1490 - accuracy: 0.9568\n",
            "Epoch 92/200\n",
            "347/347 [==============================] - 0s 296us/step - loss: 0.1432 - accuracy: 0.9539\n",
            "Epoch 93/200\n",
            "347/347 [==============================] - 0s 275us/step - loss: 0.1084 - accuracy: 0.9683\n",
            "Epoch 94/200\n",
            "347/347 [==============================] - 0s 274us/step - loss: 0.1343 - accuracy: 0.9654\n",
            "Epoch 95/200\n",
            "347/347 [==============================] - 0s 281us/step - loss: 0.1111 - accuracy: 0.9568\n",
            "Epoch 96/200\n",
            "347/347 [==============================] - 0s 270us/step - loss: 0.1513 - accuracy: 0.9452\n",
            "Epoch 97/200\n",
            "347/347 [==============================] - 0s 296us/step - loss: 0.1622 - accuracy: 0.9424\n",
            "Epoch 98/200\n",
            "347/347 [==============================] - 0s 278us/step - loss: 0.1744 - accuracy: 0.9308\n",
            "Epoch 99/200\n",
            "347/347 [==============================] - 0s 290us/step - loss: 0.1704 - accuracy: 0.9539\n",
            "Epoch 100/200\n",
            "347/347 [==============================] - 0s 291us/step - loss: 0.1171 - accuracy: 0.9654\n",
            "Epoch 101/200\n",
            "347/347 [==============================] - 0s 319us/step - loss: 0.1831 - accuracy: 0.9510\n",
            "Epoch 102/200\n",
            "347/347 [==============================] - 0s 288us/step - loss: 0.1727 - accuracy: 0.9597\n",
            "Epoch 103/200\n",
            "347/347 [==============================] - 0s 276us/step - loss: 0.0971 - accuracy: 0.9769\n",
            "Epoch 104/200\n",
            "347/347 [==============================] - 0s 331us/step - loss: 0.1162 - accuracy: 0.9654\n",
            "Epoch 105/200\n",
            "347/347 [==============================] - 0s 268us/step - loss: 0.1218 - accuracy: 0.9597\n",
            "Epoch 106/200\n",
            "347/347 [==============================] - 0s 271us/step - loss: 0.1705 - accuracy: 0.9424\n",
            "Epoch 107/200\n",
            "347/347 [==============================] - 0s 289us/step - loss: 0.1526 - accuracy: 0.9568\n",
            "Epoch 108/200\n",
            "347/347 [==============================] - 0s 285us/step - loss: 0.1218 - accuracy: 0.9625\n",
            "Epoch 109/200\n",
            "347/347 [==============================] - 0s 266us/step - loss: 0.1818 - accuracy: 0.9424\n",
            "Epoch 110/200\n",
            "347/347 [==============================] - 0s 278us/step - loss: 0.1646 - accuracy: 0.9452\n",
            "Epoch 111/200\n",
            "347/347 [==============================] - 0s 264us/step - loss: 0.1354 - accuracy: 0.9510\n",
            "Epoch 112/200\n",
            "347/347 [==============================] - 0s 286us/step - loss: 0.1324 - accuracy: 0.9481\n",
            "Epoch 113/200\n",
            "347/347 [==============================] - 0s 254us/step - loss: 0.1214 - accuracy: 0.9654\n",
            "Epoch 114/200\n",
            "347/347 [==============================] - 0s 274us/step - loss: 0.1298 - accuracy: 0.9568\n",
            "Epoch 115/200\n",
            "347/347 [==============================] - 0s 265us/step - loss: 0.1432 - accuracy: 0.9481\n",
            "Epoch 116/200\n",
            "347/347 [==============================] - 0s 260us/step - loss: 0.1896 - accuracy: 0.9452\n",
            "Epoch 117/200\n",
            "347/347 [==============================] - 0s 263us/step - loss: 0.1410 - accuracy: 0.9510\n",
            "Epoch 118/200\n",
            "347/347 [==============================] - 0s 262us/step - loss: 0.1340 - accuracy: 0.9568\n",
            "Epoch 119/200\n",
            "347/347 [==============================] - 0s 261us/step - loss: 0.1348 - accuracy: 0.9597\n",
            "Epoch 120/200\n",
            "347/347 [==============================] - 0s 261us/step - loss: 0.1776 - accuracy: 0.9452\n",
            "Epoch 121/200\n",
            "347/347 [==============================] - 0s 273us/step - loss: 0.1019 - accuracy: 0.9712\n",
            "Epoch 122/200\n",
            "347/347 [==============================] - 0s 288us/step - loss: 0.1507 - accuracy: 0.9539\n",
            "Epoch 123/200\n",
            "347/347 [==============================] - 0s 263us/step - loss: 0.1276 - accuracy: 0.9654\n",
            "Epoch 124/200\n",
            "347/347 [==============================] - 0s 260us/step - loss: 0.0749 - accuracy: 0.9654\n",
            "Epoch 125/200\n",
            "347/347 [==============================] - 0s 266us/step - loss: 0.1141 - accuracy: 0.9597\n",
            "Epoch 126/200\n",
            "347/347 [==============================] - 0s 279us/step - loss: 0.1085 - accuracy: 0.9654\n",
            "Epoch 127/200\n",
            "347/347 [==============================] - 0s 266us/step - loss: 0.1333 - accuracy: 0.9568\n",
            "Epoch 128/200\n",
            "347/347 [==============================] - 0s 262us/step - loss: 0.0918 - accuracy: 0.9654\n",
            "Epoch 129/200\n",
            "347/347 [==============================] - 0s 267us/step - loss: 0.0864 - accuracy: 0.9683\n",
            "Epoch 130/200\n",
            "347/347 [==============================] - 0s 273us/step - loss: 0.0961 - accuracy: 0.9798\n",
            "Epoch 131/200\n",
            "347/347 [==============================] - 0s 275us/step - loss: 0.1075 - accuracy: 0.9654\n",
            "Epoch 132/200\n",
            "347/347 [==============================] - 0s 265us/step - loss: 0.1312 - accuracy: 0.9625\n",
            "Epoch 133/200\n",
            "347/347 [==============================] - 0s 285us/step - loss: 0.1766 - accuracy: 0.9395\n",
            "Epoch 134/200\n",
            "347/347 [==============================] - 0s 278us/step - loss: 0.1423 - accuracy: 0.9424\n",
            "Epoch 135/200\n",
            "347/347 [==============================] - 0s 282us/step - loss: 0.1505 - accuracy: 0.9510\n",
            "Epoch 136/200\n",
            "347/347 [==============================] - 0s 259us/step - loss: 0.0816 - accuracy: 0.9769\n",
            "Epoch 137/200\n",
            "347/347 [==============================] - 0s 270us/step - loss: 0.1074 - accuracy: 0.9481\n",
            "Epoch 138/200\n",
            "347/347 [==============================] - 0s 285us/step - loss: 0.1002 - accuracy: 0.9798\n",
            "Epoch 139/200\n",
            "347/347 [==============================] - 0s 277us/step - loss: 0.0779 - accuracy: 0.9654\n",
            "Epoch 140/200\n",
            "347/347 [==============================] - 0s 259us/step - loss: 0.1195 - accuracy: 0.9395\n",
            "Epoch 141/200\n",
            "347/347 [==============================] - 0s 269us/step - loss: 0.0936 - accuracy: 0.9597\n",
            "Epoch 142/200\n",
            "347/347 [==============================] - 0s 278us/step - loss: 0.0824 - accuracy: 0.9769\n",
            "Epoch 143/200\n",
            "347/347 [==============================] - 0s 291us/step - loss: 0.1045 - accuracy: 0.9683\n",
            "Epoch 144/200\n",
            "347/347 [==============================] - 0s 271us/step - loss: 0.1206 - accuracy: 0.9683\n",
            "Epoch 145/200\n",
            "347/347 [==============================] - 0s 274us/step - loss: 0.1526 - accuracy: 0.9510\n",
            "Epoch 146/200\n",
            "347/347 [==============================] - 0s 271us/step - loss: 0.1005 - accuracy: 0.9654\n",
            "Epoch 147/200\n",
            "347/347 [==============================] - 0s 271us/step - loss: 0.1172 - accuracy: 0.9712\n",
            "Epoch 148/200\n",
            "347/347 [==============================] - 0s 276us/step - loss: 0.1082 - accuracy: 0.9597\n",
            "Epoch 149/200\n",
            "347/347 [==============================] - 0s 278us/step - loss: 0.1293 - accuracy: 0.9568\n",
            "Epoch 150/200\n",
            "347/347 [==============================] - 0s 269us/step - loss: 0.1174 - accuracy: 0.9597\n",
            "Epoch 151/200\n",
            "347/347 [==============================] - 0s 270us/step - loss: 0.1226 - accuracy: 0.9597\n",
            "Epoch 152/200\n",
            "347/347 [==============================] - 0s 258us/step - loss: 0.1311 - accuracy: 0.9597\n",
            "Epoch 153/200\n",
            "347/347 [==============================] - 0s 325us/step - loss: 0.1394 - accuracy: 0.9568\n",
            "Epoch 154/200\n",
            "347/347 [==============================] - 0s 260us/step - loss: 0.1218 - accuracy: 0.9683\n",
            "Epoch 155/200\n",
            "347/347 [==============================] - 0s 261us/step - loss: 0.1400 - accuracy: 0.9625\n",
            "Epoch 156/200\n",
            "347/347 [==============================] - 0s 262us/step - loss: 0.1131 - accuracy: 0.9712\n",
            "Epoch 157/200\n",
            "347/347 [==============================] - 0s 263us/step - loss: 0.1061 - accuracy: 0.9683\n",
            "Epoch 158/200\n",
            "347/347 [==============================] - 0s 257us/step - loss: 0.0918 - accuracy: 0.9769\n",
            "Epoch 159/200\n",
            "347/347 [==============================] - 0s 270us/step - loss: 0.0789 - accuracy: 0.9683\n",
            "Epoch 160/200\n",
            "347/347 [==============================] - 0s 273us/step - loss: 0.1120 - accuracy: 0.9712\n",
            "Epoch 161/200\n",
            "347/347 [==============================] - 0s 289us/step - loss: 0.1369 - accuracy: 0.9568\n",
            "Epoch 162/200\n",
            "347/347 [==============================] - 0s 265us/step - loss: 0.1294 - accuracy: 0.9568\n",
            "Epoch 163/200\n",
            "347/347 [==============================] - 0s 275us/step - loss: 0.0785 - accuracy: 0.9769\n",
            "Epoch 164/200\n",
            "347/347 [==============================] - 0s 283us/step - loss: 0.0706 - accuracy: 0.9712\n",
            "Epoch 165/200\n",
            "347/347 [==============================] - 0s 267us/step - loss: 0.0766 - accuracy: 0.9683\n",
            "Epoch 166/200\n",
            "347/347 [==============================] - 0s 267us/step - loss: 0.0689 - accuracy: 0.9856\n",
            "Epoch 167/200\n",
            "347/347 [==============================] - 0s 257us/step - loss: 0.1065 - accuracy: 0.9712\n",
            "Epoch 168/200\n",
            "347/347 [==============================] - 0s 267us/step - loss: 0.1320 - accuracy: 0.9625\n",
            "Epoch 169/200\n",
            "347/347 [==============================] - 0s 337us/step - loss: 0.0697 - accuracy: 0.9798\n",
            "Epoch 170/200\n",
            "347/347 [==============================] - 0s 264us/step - loss: 0.1075 - accuracy: 0.9712\n",
            "Epoch 171/200\n",
            "347/347 [==============================] - 0s 272us/step - loss: 0.1237 - accuracy: 0.9597\n",
            "Epoch 172/200\n",
            "347/347 [==============================] - 0s 264us/step - loss: 0.1133 - accuracy: 0.9654\n",
            "Epoch 173/200\n",
            "347/347 [==============================] - 0s 255us/step - loss: 0.0791 - accuracy: 0.9654\n",
            "Epoch 174/200\n",
            "347/347 [==============================] - 0s 299us/step - loss: 0.1250 - accuracy: 0.9741\n",
            "Epoch 175/200\n",
            "347/347 [==============================] - 0s 265us/step - loss: 0.0751 - accuracy: 0.9798\n",
            "Epoch 176/200\n",
            "347/347 [==============================] - 0s 256us/step - loss: 0.0947 - accuracy: 0.9712\n",
            "Epoch 177/200\n",
            "347/347 [==============================] - 0s 258us/step - loss: 0.0912 - accuracy: 0.9741\n",
            "Epoch 178/200\n",
            "347/347 [==============================] - 0s 254us/step - loss: 0.1014 - accuracy: 0.9741\n",
            "Epoch 179/200\n",
            "347/347 [==============================] - 0s 272us/step - loss: 0.1609 - accuracy: 0.9597\n",
            "Epoch 180/200\n",
            "347/347 [==============================] - 0s 257us/step - loss: 0.0934 - accuracy: 0.9712\n",
            "Epoch 181/200\n",
            "347/347 [==============================] - 0s 262us/step - loss: 0.0785 - accuracy: 0.9741\n",
            "Epoch 182/200\n",
            "347/347 [==============================] - 0s 263us/step - loss: 0.0905 - accuracy: 0.9741\n",
            "Epoch 183/200\n",
            "347/347 [==============================] - 0s 272us/step - loss: 0.1378 - accuracy: 0.9568\n",
            "Epoch 184/200\n",
            "347/347 [==============================] - 0s 265us/step - loss: 0.1494 - accuracy: 0.9395\n",
            "Epoch 185/200\n",
            "347/347 [==============================] - 0s 277us/step - loss: 0.1529 - accuracy: 0.9625\n",
            "Epoch 186/200\n",
            "347/347 [==============================] - 0s 262us/step - loss: 0.0977 - accuracy: 0.9769\n",
            "Epoch 187/200\n",
            "347/347 [==============================] - 0s 283us/step - loss: 0.0956 - accuracy: 0.9712\n",
            "Epoch 188/200\n",
            "347/347 [==============================] - 0s 264us/step - loss: 0.1409 - accuracy: 0.9712\n",
            "Epoch 189/200\n",
            "347/347 [==============================] - 0s 258us/step - loss: 0.1321 - accuracy: 0.9539\n",
            "Epoch 190/200\n",
            "347/347 [==============================] - 0s 261us/step - loss: 0.1155 - accuracy: 0.9712\n",
            "Epoch 191/200\n",
            "347/347 [==============================] - 0s 285us/step - loss: 0.0793 - accuracy: 0.9827\n",
            "Epoch 192/200\n",
            "347/347 [==============================] - 0s 402us/step - loss: 0.1280 - accuracy: 0.9568\n",
            "Epoch 193/200\n",
            "347/347 [==============================] - 0s 264us/step - loss: 0.0552 - accuracy: 0.9827\n",
            "Epoch 194/200\n",
            "347/347 [==============================] - 0s 254us/step - loss: 0.0991 - accuracy: 0.9654\n",
            "Epoch 195/200\n",
            "347/347 [==============================] - 0s 283us/step - loss: 0.0741 - accuracy: 0.9914\n",
            "Epoch 196/200\n",
            "347/347 [==============================] - 0s 260us/step - loss: 0.0967 - accuracy: 0.9683\n",
            "Epoch 197/200\n",
            "347/347 [==============================] - 0s 263us/step - loss: 0.1650 - accuracy: 0.9510\n",
            "Epoch 198/200\n",
            "347/347 [==============================] - 0s 246us/step - loss: 0.1314 - accuracy: 0.9568\n",
            "Epoch 199/200\n",
            "347/347 [==============================] - 0s 256us/step - loss: 0.0913 - accuracy: 0.9769\n",
            "Epoch 200/200\n",
            "347/347 [==============================] - 0s 283us/step - loss: 0.1381 - accuracy: 0.9597\n",
            "model created\n"
          ],
          "name": "stdout"
        }
      ]
    },
    {
      "cell_type": "code",
      "metadata": {
        "id": "qIvY-WE0j9bH"
      },
      "source": [
        "from keras.models import load_model\n",
        "model = load_model('chatbot_model.h5')"
      ],
      "execution_count": null,
      "outputs": []
    },
    {
      "cell_type": "code",
      "metadata": {
        "id": "wrDr8xuZEZsm"
      },
      "source": [
        "intents = json.loads(open('/content/intents.json').read())\n",
        "words = pickle.load(open('/content/words.pkl','rb'))\n",
        "classes = pickle.load(open('/content/classes.pkl','rb'))"
      ],
      "execution_count": null,
      "outputs": []
    },
    {
      "cell_type": "code",
      "metadata": {
        "id": "Gke07zbwEmmD"
      },
      "source": [
        "# Utility Methods\n",
        "def clean_up_sentence(sentence):\n",
        "    # tokenize the pattern - split words into array\n",
        "    sentence_words = nltk.word_tokenize(sentence)\n",
        "    # stem each word - create short form for word\n",
        "    sentence_words = [lemmatizer.lemmatize(word.lower()) for word in sentence_words]\n",
        "    return sentence_words\n",
        "# return bag of words array: 0 or 1 for each word in the bag that exists in the sentence\n",
        "def bow(sentence, words, show_details=True):\n",
        "    # tokenize the pattern\n",
        "    sentence_words = clean_up_sentence(sentence)\n",
        "    # bag of words - matrix of N words, vocabulary matrix\n",
        "    bag = [0]*len(words) \n",
        "    for s in sentence_words:\n",
        "        for i,w in enumerate(words):\n",
        "            if w == s: \n",
        "                # assign 1 if current word is in the vocabulary position\n",
        "                bag[i] = 1\n",
        "                if show_details:\n",
        "                    print (\"found in bag: %s\" % w)\n",
        "    return(np.array(bag))\n",
        "def predict_class(sentence, model):\n",
        "    # filter out predictions below a threshold\n",
        "    p = bow(sentence, words,show_details=False)\n",
        "    res = model.predict(np.array([p]))[0]\n",
        "    ERROR_THRESHOLD = 0.25\n",
        "    results = [[i,r] for i,r in enumerate(res) if r>ERROR_THRESHOLD]\n",
        "    # sort by strength of probability\n",
        "    results.sort(key=lambda x: x[1], reverse=True)\n",
        "    return_list = []\n",
        "    for r in results:\n",
        "        return_list.append({\"intent\": classes[r[0]], \"probability\": str(r[1])})\n",
        "    return return_list"
      ],
      "execution_count": null,
      "outputs": []
    },
    {
      "cell_type": "code",
      "metadata": {
        "id": "zhfy3-mdFDTy"
      },
      "source": [
        "def getResponse(ints, intents_json):\n",
        "    tag = ints[0]['intent']\n",
        "    list_of_intents = intents_json['intents']\n",
        "    for i in list_of_intents:\n",
        "        if(i['tag']== tag):\n",
        "            result = random.choice(i['responses'])\n",
        "            break\n",
        "    return result\n",
        "def chatbot_response(text):\n",
        "    ints = predict_class(text, model)\n",
        "    res = getResponse(ints, intents)\n",
        "    return res"
      ],
      "execution_count": null,
      "outputs": []
    },
    {
      "cell_type": "code",
      "metadata": {
        "id": "6sOmCuajFEer",
        "outputId": "b13bb8da-c621-428e-a98c-ec203fe48ff7",
        "colab": {
          "base_uri": "https://localhost:8080/",
          "height": 34
        }
      },
      "source": [
        "res = chatbot_response('who is computer dept hod')\n",
        "print(res)"
      ],
      "execution_count": null,
      "outputs": [
        {
          "output_type": "stream",
          "text": [
            "Dr. Mahavir Devmane is computer HOD who is available on Third floor\n"
          ],
          "name": "stdout"
        }
      ]
    },
    {
      "cell_type": "code",
      "metadata": {
        "id": "6YChuu21mDO-"
      },
      "source": [
        "!pip freeze > requirements.txt"
      ],
      "execution_count": null,
      "outputs": []
    },
    {
      "cell_type": "code",
      "metadata": {
        "id": "0XW_TuBZmGE7"
      },
      "source": [
        ""
      ],
      "execution_count": null,
      "outputs": []
    }
  ]
}